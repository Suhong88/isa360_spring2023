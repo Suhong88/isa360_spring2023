{
 "cells": [
  {
   "cell_type": "code",
   "execution_count": null,
   "id": "d23902ee",
   "metadata": {},
   "outputs": [],
   "source": [
    "# import necessary package.\n",
    "# before running this script, install tweepy and pymongo on your computer"
   ]
  },
  {
   "cell_type": "code",
   "execution_count": null,
   "id": "4916e0e6",
   "metadata": {},
   "outputs": [],
   "source": [
    "# pip install tweepy==3.9.0\n",
    "# pip install pymongo==3.11.3"
   ]
  },
  {
   "cell_type": "code",
   "execution_count": null,
   "id": "0d432fb5",
   "metadata": {},
   "outputs": [],
   "source": [
    "from __future__ import print_function\n",
    "import tweepy\n",
    "import json\n",
    "from pymongo import MongoClient\n",
    "import time\n",
    "import os\n",
    "import sys\n",
    " \n",
    "MONGO_HOST= 'mongodb://localhost:27017/tweetsDB'  # assuming you have mongoDB installed locally\n",
    "                                             # and you want to install tweets on a databse called tweetsDB\n",
    " \n",
    "WORDS = [\"#climatechange\", \"#climatechangeisreal\", \"#globalwarming\", \"climate change\"]   # choose a keyword or a list of keyword you want to investigage\n",
    " \n",
    "CONSUMER_KEY= '**'\n",
    "CONSUMER_SECRET= '**'\n",
    "ACCESS_TOKEN= '**'\n",
    "ACCESS_TOKEN_SECRET= '**'\n",
    " \n",
    "class StreamListener(tweepy.StreamListener):    \n",
    "    #This is a class provided by tweepy to access the Twitter Streaming API. \n",
    " \n",
    "    def on_connect(self):\n",
    "        # Called initially to connect to the Streaming API\n",
    "        print(\"You are now connected to the streaming API.\")\n",
    " \n",
    "    def on_error(self, status_code):\n",
    "        # On error - if an error occurs, display the error / status code\n",
    "        print('An Error has occured: ' + repr(status_code))\n",
    "        return False\n",
    " \n",
    "    def on_data(self, data):\n",
    "        #This is the meat of the script...it connects to your mongoDB and stores the tweet\n",
    "        try:\n",
    "            client = MongoClient(MONGO_HOST)\n",
    "            \n",
    "            # Use twitterdb database. If it doesn't exist, it will be created.\n",
    "            db = client.tweetsDB\n",
    "    \n",
    "            # Decode the JSON from Twitter\n",
    "            datajson = json.loads(data)\n",
    "            \n",
    "            #grab the 'created_at' data from the Tweet to use for display\n",
    "            created_at = datajson['created_at']\n",
    " \n",
    "            #print out a message to the screen that we have collected a tweet\n",
    "            print(\"Tweet collected at \" + str(created_at))\n",
    "            \n",
    "            #insert the data into a collection called climate_change\n",
    "            #if climate_change doesn't exist, it will be created.\n",
    "            db.climate_change.insert(datajson)\n",
    "        except Exception as e:\n",
    "           print(e)\n",
    " \n",
    "auth = tweepy.OAuthHandler(CONSUMER_KEY, CONSUMER_SECRET)\n",
    "auth.set_access_token(ACCESS_TOKEN, ACCESS_TOKEN_SECRET)\n",
    "\n",
    "while True:\n",
    "    try:\n",
    "        #Set up the listener. The 'wait_on_rate_limit=True' is needed to help with Twitter API rate limiting.\n",
    "        listener = StreamListener(api=tweepy.API(wait_on_rate_limit=True)) \n",
    "        streamer = tweepy.Stream(auth=auth, listener=listener)\n",
    "        print(\"Tracking: \" + str(WORDS))\n",
    "        streamer.filter(track=WORDS)\n",
    "    except:\n",
    "        # try after one minute if fails\n",
    "        time.sleep(60)"
   ]
  },
  {
   "cell_type": "code",
   "execution_count": null,
   "id": "e2584cc8",
   "metadata": {},
   "outputs": [],
   "source": []
  }
 ],
 "metadata": {
  "kernelspec": {
   "display_name": "Python 3 (ipykernel)",
   "language": "python",
   "name": "python3"
  },
  "language_info": {
   "codemirror_mode": {
    "name": "ipython",
    "version": 3
   },
   "file_extension": ".py",
   "mimetype": "text/x-python",
   "name": "python",
   "nbconvert_exporter": "python",
   "pygments_lexer": "ipython3",
   "version": "3.8.3"
  }
 },
 "nbformat": 4,
 "nbformat_minor": 5
}
